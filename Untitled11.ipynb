{
 "cells": [
  {
   "cell_type": "markdown",
   "id": "79a63665",
   "metadata": {},
   "source": [
    "## 1. a=\"Hello Python\" 문자열을 Slicing과 연결 연산자 (+)를 사용하여 \"Python Hello\"로 변경하시오.\n",
    "[주의] a 변수 자체에 \"Python Hello\" 문자열이 저장되어야 함"
   ]
  },
  {
   "cell_type": "code",
   "execution_count": 5,
   "id": "33e52c18",
   "metadata": {},
   "outputs": [
    {
     "name": "stdout",
     "output_type": "stream",
     "text": [
      "Python Hello\n"
     ]
    }
   ],
   "source": [
    "a = \"Hello Python\"\n",
    "x = a[0:5]\n",
    "y = a[6:12]\n",
    "a = y + \" \" + x\n",
    "print(a)"
   ]
  },
  {
   "cell_type": "markdown",
   "id": "846105a3",
   "metadata": {},
   "source": [
    "#### x와 y라는 변수에 각각 \"Hello\"와 \"Python\"을 저장하고 다시 a에 y + \" \" + x 를 하여 a에 \"Python Hello\"를 대입하여 해결한다."
   ]
  },
  {
   "cell_type": "code",
   "execution_count": null,
   "id": "e606eff9",
   "metadata": {},
   "outputs": [],
   "source": []
  }
 ],
 "metadata": {
  "kernelspec": {
   "display_name": "Python 3",
   "language": "python",
   "name": "python3"
  },
  "language_info": {
   "codemirror_mode": {
    "name": "ipython",
    "version": 3
   },
   "file_extension": ".py",
   "mimetype": "text/x-python",
   "name": "python",
   "nbconvert_exporter": "python",
   "pygments_lexer": "ipython3",
   "version": "3.8.8"
  }
 },
 "nbformat": 4,
 "nbformat_minor": 5
}
